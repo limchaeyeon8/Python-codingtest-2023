{
 "cells": [
  {
   "attachments": {},
   "cell_type": "markdown",
   "metadata": {},
   "source": [
    "## 단순 연결 리스트\n",
    "\n",
    "### 노드생성"
   ]
  },
  {
   "cell_type": "code",
   "execution_count": 7,
   "metadata": {},
   "outputs": [],
   "source": [
    "class Node:\n",
    "    def __init__(self) -> None:\n",
    "        self.data = None    # 현재값\n",
    "        self.link = None    # 다음 노드 가리킴\n",
    "\n",
    "    def __str__(self) -> str:\n",
    "        return f'{self.data}'"
   ]
  },
  {
   "attachments": {},
   "cell_type": "markdown",
   "metadata": {},
   "source": [
    "### 첫번째 노드 생성"
   ]
  },
  {
   "cell_type": "code",
   "execution_count": 8,
   "metadata": {},
   "outputs": [
    {
     "name": "stdout",
     "output_type": "stream",
     "text": [
      "다현\n"
     ]
    }
   ],
   "source": [
    "node1 = Node()\n",
    "node1.data = '다현'\n",
    "\n",
    "print(node1)"
   ]
  },
  {
   "attachments": {},
   "cell_type": "markdown",
   "metadata": {},
   "source": [
    "### 두번째 노드 생성"
   ]
  },
  {
   "cell_type": "code",
   "execution_count": 9,
   "metadata": {},
   "outputs": [],
   "source": [
    "node2 = Node()\n",
    "node2.data = '정연'\n",
    "node1.link = node2      # 첫번째 노드의 링크에 두번째 노드 넣어 연결"
   ]
  },
  {
   "attachments": {},
   "cell_type": "markdown",
   "metadata": {},
   "source": [
    "### 세번째 노드부터 계속"
   ]
  },
  {
   "cell_type": "code",
   "execution_count": 10,
   "metadata": {},
   "outputs": [],
   "source": [
    "node3 = Node()\n",
    "node3.data = '쯔위'\n",
    "node2.link = node3 \n",
    "\n",
    "node4 = Node()\n",
    "node4.data = '사나'\n",
    "node3.link = node4\n",
    "\n",
    "node5 = Node()\n",
    "node5.data = '지효'\n",
    "node4.link = node5"
   ]
  },
  {
   "attachments": {},
   "cell_type": "markdown",
   "metadata": {},
   "source": [
    "### 연결리스트 출력"
   ]
  },
  {
   "cell_type": "code",
   "execution_count": 13,
   "metadata": {},
   "outputs": [
    {
     "name": "stdout",
     "output_type": "stream",
     "text": [
      "다현->정연->쯔위->사나->지효\n"
     ]
    }
   ],
   "source": [
    "print(node1.data, end='->')\n",
    "print(node1.link.data, end='->')                # node2.data\n",
    "print(node1.link.link.data, end='->')           # node3.data\n",
    "print(node1.link.link.link.data, end='->')      # node4.data\n",
    "print(node1.link.link.link.link.data)            # node5.data"
   ]
  },
  {
   "cell_type": "code",
   "execution_count": 15,
   "metadata": {},
   "outputs": [
    {
     "name": "stdout",
     "output_type": "stream",
     "text": [
      "다현 정연 쯔위 사나 지효\n",
      "None\n"
     ]
    }
   ],
   "source": [
    "print(node1.data, end=' ')\n",
    "print(node2.data, end=' ')                # node2.data\n",
    "print(node3.data, end=' ')           # node3.data\n",
    "print(node4.data, end=' ')      # node4.data\n",
    "print(node5.data)            # node5.data\n",
    "print(node5.link)            # node5.data\n"
   ]
  },
  {
   "attachments": {},
   "cell_type": "markdown",
   "metadata": {},
   "source": [
    "### 연결리스트 출력 로직"
   ]
  },
  {
   "cell_type": "code",
   "execution_count": 21,
   "metadata": {},
   "outputs": [
    {
     "name": "stdout",
     "output_type": "stream",
     "text": [
      "다현 -> 정연 -> 채연 -> 쯔위 -> 사나 -> 지효\n"
     ]
    }
   ],
   "source": [
    "current = node1\n",
    "print(current.data, end=' -> ')\n",
    "while current.link != None:\n",
    "    current = current.link\n",
    "    \n",
    "    if current.link == None:\n",
    "        # 뒤에 연결링크가 없으면 (마지막 노드) end=' -> ' 삭제\n",
    "        print(current.data)\n",
    "    else:\n",
    "        print(current.data, end= ' -> ')"
   ]
  },
  {
   "attachments": {},
   "cell_type": "markdown",
   "metadata": {},
   "source": [
    "### 연결리스트에 새 노드 삽입"
   ]
  },
  {
   "cell_type": "code",
   "execution_count": 20,
   "metadata": {},
   "outputs": [],
   "source": [
    "newNode = Node()\n",
    "newNode.data = '채연'\n",
    "newNode.link = node2.link       # node3 에 대한 위치\n",
    "node2.link = newNode"
   ]
  },
  {
   "attachments": {},
   "cell_type": "markdown",
   "metadata": {},
   "source": [
    "### 쯔위 노드 삭제"
   ]
  },
  {
   "cell_type": "code",
   "execution_count": 23,
   "metadata": {},
   "outputs": [
    {
     "ename": "NameError",
     "evalue": "name 'node3' is not defined",
     "output_type": "error",
     "traceback": [
      "\u001b[1;31m---------------------------------------------------------------------------\u001b[0m",
      "\u001b[1;31mNameError\u001b[0m                                 Traceback (most recent call last)",
      "Cell \u001b[1;32mIn[23], line 1\u001b[0m\n\u001b[1;32m----> 1\u001b[0m newNode\u001b[39m.\u001b[39mlink \u001b[39m=\u001b[39m node3\u001b[39m.\u001b[39mlink \u001b[39m# node4 사나\u001b[39;00m\n",
      "\u001b[1;31mNameError\u001b[0m: name 'node3' is not defined"
     ]
    }
   ],
   "source": [
    "newNode.link = node3.link # node4 사나"
   ]
  },
  {
   "attachments": {},
   "cell_type": "markdown",
   "metadata": {},
   "source": [
    "이걸로도 삭제는 되지만, 메모리상에 쯔위의 노드는 계속 남아있음"
   ]
  },
  {
   "cell_type": "code",
   "execution_count": 24,
   "metadata": {},
   "outputs": [
    {
     "ename": "NameError",
     "evalue": "name 'node3' is not defined",
     "output_type": "error",
     "traceback": [
      "\u001b[1;31m---------------------------------------------------------------------------\u001b[0m",
      "\u001b[1;31mNameError\u001b[0m                                 Traceback (most recent call last)",
      "Cell \u001b[1;32mIn[24], line 1\u001b[0m\n\u001b[1;32m----> 1\u001b[0m \u001b[39mdel\u001b[39;00m(node3)  \u001b[39m# 노드 완전 삭제\u001b[39;00m\n",
      "\u001b[1;31mNameError\u001b[0m: name 'node3' is not defined"
     ]
    }
   ],
   "source": [
    "del(node3)  # 노드 완전 삭제"
   ]
  }
 ],
 "metadata": {
  "kernelspec": {
   "display_name": "Python 3",
   "language": "python",
   "name": "python3"
  },
  "language_info": {
   "codemirror_mode": {
    "name": "ipython",
    "version": 3
   },
   "file_extension": ".py",
   "mimetype": "text/x-python",
   "name": "python",
   "nbconvert_exporter": "python",
   "pygments_lexer": "ipython3",
   "version": "3.11.1"
  },
  "orig_nbformat": 4,
  "vscode": {
   "interpreter": {
    "hash": "a3d8f53f1429d27b792a3789224562ddd32c1395c9a9cfbb17b3c19c3b9a493d"
   }
  }
 },
 "nbformat": 4,
 "nbformat_minor": 2
}
