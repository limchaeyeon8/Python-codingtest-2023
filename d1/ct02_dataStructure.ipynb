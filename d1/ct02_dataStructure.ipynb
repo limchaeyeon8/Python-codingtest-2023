{
 "cells": [
  {
   "attachments": {},
   "cell_type": "markdown",
   "metadata": {},
   "source": [
    "## 자료구조\n",
    "\n",
    "### 숫자의 합 - 백준 11720"
   ]
  },
  {
   "cell_type": "code",
   "execution_count": null,
   "metadata": {},
   "outputs": [],
   "source": [
    "### input 문자열 파라미터를 넣으면 틀린문제로 간주!\n",
    "\n",
    "n = int(input())\n",
    "numbers = list(input())\n",
    "m_sum = 0\n",
    "\n",
    "for i in numbers:\n",
    "    m_sum += int(i)\n",
    "\n",
    "print(m_sum)"
   ]
  },
  {
   "attachments": {},
   "cell_type": "markdown",
   "metadata": {},
   "source": [
    "### 변경 후"
   ]
  },
  {
   "cell_type": "code",
   "execution_count": null,
   "metadata": {},
   "outputs": [],
   "source": [
    "n = int(input())\n",
    "numbers = list(map(int, input()))\n",
    "m_sum = 0\n",
    "\n",
    "for i in range(n):\n",
    "    m_sum += numbers[i]\n",
    "\n",
    "print(m_sum)"
   ]
  },
  {
   "attachments": {},
   "cell_type": "markdown",
   "metadata": {},
   "source": [
    "### 평균 - 백준 1546"
   ]
  },
  {
   "cell_type": "code",
   "execution_count": null,
   "metadata": {},
   "outputs": [],
   "source": [
    "n = int(input())            # 과목수\n",
    "my_test = list(map(int, input().split()))   # 점수 다 받는 거\n",
    "max_point = max(my_test)    # 성적 중 최대점수\n",
    "mysum = 0\n",
    "for i in my_test:\n",
    "    mysum += i\n",
    "\n",
    "print(mysum * 100 / max_point / n )"
   ]
  },
  {
   "attachments": {},
   "cell_type": "markdown",
   "metadata": {},
   "source": [
    "### 구간합 구하기 - 백준 11659"
   ]
  },
  {
   "cell_type": "code",
   "execution_count": null,
   "metadata": {},
   "outputs": [],
   "source": [
    "N, M = tuple(map(int, input().split()))     # 두 값 한 번에 받을 때\n",
    "numbers = list(map(int, input().split()))\n",
    "\n",
    "sums = [0]      ##### 핵심!!!\n",
    "temp = 0\n",
    "\n",
    "for i in numbers:\n",
    "    temp = temp + i \n",
    "    sums.append(temp)\n",
    "\n",
    "for i in range(M):\n",
    "    x, y = tuple(map(int, input().split()))\n",
    "    print(sums[y] - sums[x - 1])"
   ]
  },
  {
   "cell_type": "code",
   "execution_count": 1,
   "metadata": {},
   "outputs": [],
   "source": [
    "# 입력속도를 개선하기 위해 사용 // 단, 주피터노트북에서는 실행불가\n",
    "import sys\n",
    "InPut = sys.stdin.readline      # 이부분이 없으면 백준 시간 초과!!!\n",
    "\n",
    "\n",
    "N, M = tuple(map(int, InPut().split()))     # 두 값 한 번에 받을 때\n",
    "numbers = list(map(int, InPut().split()))\n",
    "\n",
    "sums = [0]      ##### 핵심!!!\n",
    "temp = 0\n",
    "\n",
    "for i in numbers:\n",
    "    temp = temp + i \n",
    "    sums.append(temp)\n",
    "\n",
    "for i in range(M):\n",
    "    x, y = tuple(map(int, InPut().split()))\n",
    "    print(sums[y] - sums[x - 1])"
   ]
  },
  {
   "attachments": {},
   "cell_type": "markdown",
   "metadata": {},
   "source": [
    "### 구간합 구하기 2 - 백준 11660\n",
    "\n",
    "다이나믹 프로그래밍"
   ]
  },
  {
   "cell_type": "code",
   "execution_count": null,
   "metadata": {},
   "outputs": [],
   "source": []
  }
 ],
 "metadata": {
  "kernelspec": {
   "display_name": "Python 3",
   "language": "python",
   "name": "python3"
  },
  "language_info": {
   "codemirror_mode": {
    "name": "ipython",
    "version": 3
   },
   "file_extension": ".py",
   "mimetype": "text/x-python",
   "name": "python",
   "nbconvert_exporter": "python",
   "pygments_lexer": "ipython3",
   "version": "3.11.1"
  },
  "orig_nbformat": 4,
  "vscode": {
   "interpreter": {
    "hash": "a3d8f53f1429d27b792a3789224562ddd32c1395c9a9cfbb17b3c19c3b9a493d"
   }
  }
 },
 "nbformat": 4,
 "nbformat_minor": 2
}
