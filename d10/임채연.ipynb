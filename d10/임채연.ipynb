{
 "cells": [
  {
   "attachments": {},
   "cell_type": "markdown",
   "metadata": {},
   "source": [
    "## 1번 문제\n",
    "\n",
    "프로그래머스 Lev1. 카드 뭉치 "
   ]
  },
  {
   "cell_type": "code",
   "execution_count": null,
   "metadata": {},
   "outputs": [],
   "source": [
    "from collections import deque\n",
    "\n",
    "def solution1(cards1, cards2, goal):\n",
    "    answer = 'YES'\n",
    "    \n",
    "    cards1 = deque(cards1)\n",
    "    cards2 = deque(cards2)\n",
    "\n",
    "    for i in goal:\n",
    "        if cards1 and i == cards1[0]:\n",
    "            cards1.popleft()\n",
    "        elif cards2 and i == cards2[0]:\n",
    "            cards2.popleft()\n",
    "        else: return 'NO'\n",
    "\n",
    "    return answer\n",
    "\n",
    "cards1 = [\"i\", \"drink\", \"water\"]\n",
    "cards2 = [\"want\", \"to\"]\n",
    "goal = [\"i\", \"want\", \"to\", \"drink\", \"water\"]\n",
    "\n",
    "print(solution1(cards1, cards2, goal)) # return Yes\n",
    "\n",
    "cards1 = [\"i\", \"water\", \"drink\"]\n",
    "cards2 = [\"want\", \"to\"]\n",
    "goal = [\"i\", \"want\", \"to\", \"drink\", \"water\"]\n",
    "\n",
    "print(solution1(cards1, cards2, goal)) # return No"
   ]
  },
  {
   "attachments": {},
   "cell_type": "markdown",
   "metadata": {},
   "source": [
    "풀이"
   ]
  },
  {
   "cell_type": "code",
   "execution_count": null,
   "metadata": {},
   "outputs": [],
   "source": [
    "from collections import deque\n",
    "\n",
    "def solution1(cards1, cards2, goal):\n",
    "    answer = 'YES'\n",
    "    index1, index2 = 0, 0\n",
    "\n",
    "    for word in goal:\n",
    "        if index1 < len(cards1) and word == cards1[index1]:     # goal에 있는 [\"i\", \"want\", \"to\", \"drink\", \"water\"] 와 같은 단어가 card1에 있다 # 두 조건 순서 조심\n",
    "            index1 += 1\n",
    "        elif index2 < len(cards2) and word == cards2[index2]:\n",
    "            index2 += 1\n",
    "        else:\n",
    "            answer = 'NO'\n",
    "            break\n",
    "\n",
    "    return answer\n",
    "\n",
    "cards1 = [\"i\", \"drink\", \"water\"]\n",
    "cards2 = [\"want\", \"to\"]\n",
    "goal = [\"i\", \"want\", \"to\", \"drink\", \"water\"]\n",
    "\n",
    "print(solution1(cards1, cards2, goal)) # return Yes\n",
    "\n",
    "cards1 = [\"i\", \"water\", \"drink\"]\n",
    "cards2 = [\"want\", \"to\"]\n",
    "goal = [\"i\", \"want\", \"to\", \"drink\", \"water\"]\n",
    "\n",
    "print(solution1(cards1, cards2, goal)) # return No"
   ]
  },
  {
   "attachments": {},
   "cell_type": "markdown",
   "metadata": {},
   "source": [
    "## 2번 문제\n",
    "\n",
    "프로그래머스 Lev1. 체육복"
   ]
  },
  {
   "cell_type": "code",
   "execution_count": null,
   "metadata": {},
   "outputs": [],
   "source": [
    "def solution2(n, lost, reserve):\n",
    "    answer = 0\n",
    "\n",
    "    lostLen = len(lost)\n",
    "    \n",
    "    for i in lost :\n",
    "        if i in reserve :\n",
    "            reserve.remove(i)\n",
    "            lost.remove(i)\n",
    "            lostLen -= 1\n",
    "\n",
    "    for i in lost :\n",
    "        if (i-1) in reserve :\n",
    "            reserve.remove(i-1)\n",
    "            lostLen -= 1\n",
    "            \n",
    "        elif (i+1) in reserve :\n",
    "            reserve.remove(i+1)\n",
    "            lostLen -= 1\n",
    "     \n",
    "    answer = n - lostLen\n",
    "\n",
    "    return answer\n",
    "\n",
    "\n",
    "n = 5\n",
    "lost = [2, 4]\n",
    "reserve = [1,3,5]\n",
    "\n",
    "print(solution2(n, lost, reserve)) # return 5\n",
    "\n",
    "\n",
    "n = 5\n",
    "lost = [2, 4]\n",
    "reserve = [3]\n",
    "\n",
    "print(solution2(n, lost, reserve)) # return 4\n",
    "\n",
    "\n",
    "n = 3\n",
    "lost = [3]\n",
    "reserve = [1]\n",
    "\n",
    "print(solution2(n, lost, reserve)) # return 2"
   ]
  },
  {
   "attachments": {},
   "cell_type": "markdown",
   "metadata": {},
   "source": [
    "풀이"
   ]
  },
  {
   "cell_type": "code",
   "execution_count": 5,
   "metadata": {},
   "outputs": [
    {
     "name": "stdout",
     "output_type": "stream",
     "text": [
      "5\n",
      "4\n",
      "2\n"
     ]
    }
   ],
   "source": [
    "def solution(n, lost, reserve):\n",
    "    answer = 0\n",
    "    reserved = set(reserve) - set(lost)    # 여벌옷 가져온 학생 - 체육복 없는 학생\n",
    "    losted = set(lost) - set(reserve)      # 체육복 없는 학생 - 여벌옷 가져온 학생\n",
    "\n",
    "    for i in reserved:\n",
    "        if  i - 1 in losted:\n",
    "            losted.remove(i-1)      # 왼쪽학생에게 옷을 빌려주라\n",
    "        elif i + 1 in losted:\n",
    "            losted.remove(i+1)      # 오른쪽학생에게 옷을 빌려주라\n",
    "    answer = n - len(losted)        # 체육복 없는 남은 학생수\n",
    "        \n",
    "    return answer\n",
    "\n",
    "n = 5\n",
    "lost = [2, 4]\n",
    "reserve = [1, 3, 5]\n",
    "print(solution(n, lost, reserve))       # return5\n",
    "\n",
    "\n",
    "n = 5\n",
    "lost = [2, 4]\n",
    "reserve = [3]\n",
    "\n",
    "print(solution(n, lost, reserve)) # return 4\n",
    "\n",
    "\n",
    "n = 3\n",
    "lost = [3]\n",
    "reserve = [1]\n",
    "\n",
    "print(solution(n, lost, reserve)) # return 2"
   ]
  }
 ],
 "metadata": {
  "kernelspec": {
   "display_name": "Python 3",
   "language": "python",
   "name": "python3"
  },
  "language_info": {
   "codemirror_mode": {
    "name": "ipython",
    "version": 3
   },
   "file_extension": ".py",
   "mimetype": "text/x-python",
   "name": "python",
   "nbconvert_exporter": "python",
   "pygments_lexer": "ipython3",
   "version": "3.11.1"
  },
  "orig_nbformat": 4,
  "vscode": {
   "interpreter": {
    "hash": "a3d8f53f1429d27b792a3789224562ddd32c1395c9a9cfbb17b3c19c3b9a493d"
   }
  }
 },
 "nbformat": 4,
 "nbformat_minor": 2
}
